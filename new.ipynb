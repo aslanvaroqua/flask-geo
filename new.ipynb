{
 "cells": [
  {
   "cell_type": "markdown",
   "metadata": {
    "collapsed": true
   },
   "source": [
    "# Automated ordering, download, indexing of Landsat USGS data for AGDCv2"
   ]
  },
  {
   "cell_type": "markdown",
   "metadata": {},
   "source": [
    "### Import the required libraries"
   ]
  },
  {
   "cell_type": "code",
   "execution_count": 1,
   "metadata": {
    "ExecuteTime": {
     "end_time": "2017-01-10T14:39:25.108758",
     "start_time": "2017-01-10T14:39:23.114891"
    },
    "collapsed": true
   },
   "outputs": [],
   "source": [
    "from __future__ import print_function, division\n",
    "\n",
    "import os, json, requests, time, getpass\n",
    "import pandas as pd\n",
    "import geopandas as gpd\n",
    "from shapely.geometry import Polygon\n",
    "import gzip\n",
    "try:\n",
    "    from urllib.parse import urlparse, urljoin\n",
    "except ImportError:\n",
    "    from urlparse import urlparse, urljoin"
   ]
  },
  {
   "cell_type": "markdown",
   "metadata": {},
   "source": [
    "## Register with ESPA and enter your credentials below https://espa.cr.usgs.gov"
   ]
  },
  {
   "cell_type": "code",
   "execution_count": 3,
   "metadata": {
    "ExecuteTime": {
     "end_time": "2017-01-10T14:39:27.974917",
     "start_time": "2017-01-10T14:39:27.970903"
    },
    "collapsed": false
   },
   "outputs": [],
   "source": [
    "working_dir = os.path.abspath(\"/g/data/u46/users/gxr547\")\n",
    "data_dir = os.path.abspath('/g/data/u46/users/gxr547/espa_test')"
   ]
  },
  {
   "cell_type": "code",
   "execution_count": 4,
   "metadata": {
    "ExecuteTime": {
     "end_time": "2017-01-10T14:39:40.238879",
     "start_time": "2017-01-10T14:39:29.434748"
    },
    "collapsed": false
   },
   "outputs": [
    {
     "name": "stdout",
     "output_type": "stream",
     "text": [
      "https://espa.cr.usgs.gov username:········\n",
      "https://espa.cr.usgs.gov password:········\n"
     ]
    }
   ],
   "source": [
    "from requests.auth import HTTPBasicAuth, HTTPDigestAuth\n",
    "#password = getpass.getpass(prompt='Enter password for %s: '%username)\n",
    "auth = HTTPBasicAuth(getpass.getpass(prompt='https://espa.cr.usgs.gov username:'),\n",
    "                      getpass.getpass(prompt='https://espa.cr.usgs.gov password:'))"
   ]
  },
  {
   "cell_type": "markdown",
   "metadata": {
    "ExecuteTime": {
     "end_time": "2017-01-10T10:55:03.587737",
     "start_time": "2017-01-10T10:55:03.583696"
    }
   },
   "source": [
    "## Download auxilary data"
   ]
  },
  {
   "cell_type": "code",
   "execution_count": 5,
   "metadata": {
    "ExecuteTime": {
     "end_time": "2017-01-10T14:39:46.082718",
     "start_time": "2017-01-10T14:39:46.073028"
    },
    "collapsed": true
   },
   "outputs": [],
   "source": [
    "def download_file(url, output_dir, overwrite=False):\n",
    "    local_filename = os.path.join(output_dir,url.split('/')[-1])\n",
    "    if not overwrite and os.path.exists(local_filename):\n",
    "        print(local_filename, 'already exists')\n",
    "        return\n",
    "    print('downloading', url, '->', local_filename)\n",
    "    r = requests.get(url, stream=True)\n",
    "    with open(local_filename, 'wb') as f:\n",
    "        for chunk in r.iter_content(chunk_size=1024): \n",
    "            if chunk: # filter out keep-alive new chunks\n",
    "                f.write(chunk)\n",
    "    return local_filename"
   ]
  },
  {
   "cell_type": "markdown",
   "metadata": {},
   "source": [
    "### inventory data from USGS"
   ]
  },
  {
   "cell_type": "code",
   "execution_count": 36,
   "metadata": {
    "ExecuteTime": {
     "end_time": "2017-01-10T10:56:40.645442",
     "start_time": "2017-01-10T10:56:40.629604"
    },
    "collapsed": false
   },
   "outputs": [
    {
     "name": "stdout",
     "output_type": "stream",
     "text": [
      "/g/data/u46/users/gxr547/LANDSAT_8.csv.gz already exists\n",
      "/g/data/u46/users/gxr547/LANDSAT_ETM.csv.gz already exists\n",
      "/g/data/u46/users/gxr547/LANDSAT_ETM_SLC_OFF.csv.gz already exists\n",
      "/g/data/u46/users/gxr547/LANDSAT_TM-1980-1989.csv.gz already exists\n",
      "/g/data/u46/users/gxr547/LANDSAT_TM-1990-1999.csv.gz already exists\n",
      "/g/data/u46/users/gxr547/LANDSAT_TM-2000-2009.csv.gz already exists\n",
      "/g/data/u46/users/gxr547/LANDSAT_TM-2010-2012.csv.gz already exists\n"
     ]
    }
   ],
   "source": [
    "landsat_csv_list = [\"LANDSAT_8.csv.gz\",\n",
    "                    \"LANDSAT_ETM.csv.gz\",\n",
    "                    \"LANDSAT_ETM_SLC_OFF.csv.gz\",\n",
    "                    \"LANDSAT_TM-1980-1989.csv.gz\",\n",
    "                    \"LANDSAT_TM-1990-1999.csv.gz\",\n",
    "                    \"LANDSAT_TM-2000-2009.csv.gz\",\n",
    "                    \"LANDSAT_TM-2010-2012.csv.gz\"\n",
    "                   ]\n",
    "metadata_file_url = \"https://landsat.usgs.gov/landsat/metadata_service/bulk_metadata_files/\"\n",
    "\n",
    "for csv in landsat_csv_list:\n",
    "    download_file(urljoin(metadata_file_url, csv), working_dir)"
   ]
  },
  {
   "cell_type": "markdown",
   "metadata": {},
   "source": [
    "### product definitions and prep scripts"
   ]
  },
  {
   "cell_type": "code",
   "execution_count": 37,
   "metadata": {
    "ExecuteTime": {
     "end_time": "2017-01-10T10:59:42.550798",
     "start_time": "2017-01-10T10:59:40.967658"
    },
    "collapsed": false
   },
   "outputs": [
    {
     "name": "stdout",
     "output_type": "stream",
     "text": [
      "downloading https://raw.githubusercontent.com/data-cube/agdc-v2/develop/docs/config_samples/dataset_types/ls5_scenes.yaml -> /g/data/u46/users/gxr547/ls5_scenes.yaml\n",
      "downloading https://raw.githubusercontent.com/data-cube/agdc-v2/develop/docs/config_samples/dataset_types/ls7_scenes.yaml -> /g/data/u46/users/gxr547/ls7_scenes.yaml\n",
      "downloading https://raw.githubusercontent.com/data-cube/agdc-v2/develop/docs/config_samples/dataset_types/ls8_scenes.yaml -> /g/data/u46/users/gxr547/ls8_scenes.yaml\n",
      "downloading https://raw.githubusercontent.com/data-cube/agdc-v2/develop/utils/usgslsprepare.py -> /g/data/u46/users/gxr547/usgslsprepare.py\n",
      "downloading https://raw.githubusercontent.com/USGS-EROS/espa-bulk-downloader/master/download_espa_order.py -> /g/data/u46/users/gxr547/download_espa_order.py\n"
     ]
    }
   ],
   "source": [
    "files = ['https://raw.githubusercontent.com/data-cube/agdc-v2/develop/docs/config_samples/dataset_types/ls5_scenes.yaml',\n",
    "         'https://raw.githubusercontent.com/data-cube/agdc-v2/develop/docs/config_samples/dataset_types/ls7_scenes.yaml',\n",
    "         'https://raw.githubusercontent.com/data-cube/agdc-v2/develop/docs/config_samples/dataset_types/ls8_scenes.yaml',\n",
    "         'https://raw.githubusercontent.com/data-cube/agdc-v2/develop/utils/usgslsprepare.py',\n",
    "         'https://raw.githubusercontent.com/USGS-EROS/espa-bulk-downloader/master/download_espa_order.py',\n",
    "        ]\n",
    "for url in files:\n",
    "    download_file(url, working_dir, True)"
   ]
  },
  {
   "cell_type": "markdown",
   "metadata": {},
   "source": [
    "## Determine which WRS path/rows intersect the area of interest"
   ]
  },
  {
   "cell_type": "markdown",
   "metadata": {},
   "source": [
    "### Define the AOI"
   ]
  },
  {
   "cell_type": "code",
   "execution_count": 9,
   "metadata": {
    "ExecuteTime": {
     "end_time": "2017-01-10T10:32:14.872548",
     "start_time": "2017-01-10T10:32:14.863867"
    },
    "collapsed": false
   },
   "outputs": [],
   "source": [
    "ul_lon, ul_lat = 77.83, 17.84 # upper left longitude, latitude\n",
    "lr_lon, lr_lat = 78.00, 17.67 # lower right longitude, latitude\n",
    "date_start, date_end = \"2015-01-11\"  , \"2016-12-12\" # start date and end date for time range selection  \n",
    "sensor_list=[\"olitirs8\", \"tm5\", \"etm7\"] # list of sensors to use\n",
    "\n",
    "polygon_list = [[ul_lon, ul_lat], [lr_lon, ul_lat],[lr_lon, lr_lat],[ul_lon, lr_lat],[ul_lon, ul_lat]]\n",
    "\n",
    "wrs_query = 'http://api.remotepixel.ca/wrs2tiles?search=poly:'+str(polygon_list)"
   ]
  },
  {
   "cell_type": "markdown",
   "metadata": {},
   "source": [
    "### Determine which WRS2 path/rows cover the AOI"
   ]
  },
  {
   "cell_type": "code",
   "execution_count": 10,
   "metadata": {
    "ExecuteTime": {
     "end_time": "2017-01-10T10:32:18.745901",
     "start_time": "2017-01-10T10:32:15.982797"
    },
    "collapsed": false
   },
   "outputs": [
    {
     "data": {
      "text/plain": [
       "['144_48']"
      ]
     },
     "execution_count": 10,
     "metadata": {},
     "output_type": "execute_result"
    }
   ],
   "source": [
    "post_query = requests.get(wrs_query)\n",
    "wrs_search_result = json.loads(post_query.text)\n",
    "\n",
    "path_row = []\n",
    "for item in wrs_search_result['results']:\n",
    "    path_row.append(str(item['path'])+\"_\"+str(item['row']))\n",
    "path_row"
   ]
  },
  {
   "cell_type": "markdown",
   "metadata": {},
   "source": [
    "#### Find scenes matching the criteria"
   ]
  },
  {
   "cell_type": "code",
   "execution_count": 16,
   "metadata": {
    "ExecuteTime": {
     "end_time": "2017-01-10T10:45:43.835291",
     "start_time": "2017-01-10T10:35:54.251963"
    },
    "collapsed": false
   },
   "outputs": [],
   "source": [
    "scene_list = []\n",
    "\n",
    "for csv in landsat_csv_list:\n",
    "    collection = gzip.open(os.path.join(working_dir, csv), 'rb')\n",
    "\n",
    "    data_inventory = pd.read_csv(collection , usecols=['acquisitionDate', \"sceneID\", \"path\", \"row\"]) # limit the columns to only the ones we need\n",
    "    data_inventory[\"path_row\"] = data_inventory[\"path\"].map(str) + \"_\" + data_inventory[\"row\"].map(str)\n",
    "    data_inventory['acquisitionDate'] = data_inventory['acquisitionDate'].apply(pd.to_datetime)\n",
    "    data_inventory = data_inventory.loc[(data_inventory['acquisitionDate'] >= pd.to_datetime(date_start)) &\n",
    "                                        (data_inventory['acquisitionDate'] <= pd.to_datetime(date_end)) &\n",
    "                                        data_inventory['path_row'].isin(path_row)]\n",
    "    scene_list.extend(data_inventory['sceneID'].tolist())"
   ]
  },
  {
   "cell_type": "markdown",
   "metadata": {},
   "source": [
    "## Submit an ESPA order for the SR product for the scene list"
   ]
  },
  {
   "cell_type": "markdown",
   "metadata": {},
   "source": [
    "### Filter unavailable scenes out"
   ]
  },
  {
   "cell_type": "code",
   "execution_count": 22,
   "metadata": {
    "ExecuteTime": {
     "end_time": "2017-01-10T10:47:35.735036",
     "start_time": "2017-01-10T10:47:35.729376"
    },
    "collapsed": false
   },
   "outputs": [],
   "source": [
    "json_order=[]\n",
    "for sensor, scenes in available_scenes.items():\n",
    "    order_details={\n",
    "        sensor:\n",
    "        {\n",
    "            \"products\": [\"sr\"],\n",
    "            \"inputs\": scenes,\n",
    "        },\n",
    "        \"format\": \"gtiff\",\n",
    "        \"resize\": {\"pixel_size\": 30, \"pixel_size_units\": \"meters\"}}\n",
    "    json_order.append(order_details)"
   ]
  },
  {
   "cell_type": "markdown",
   "metadata": {
    "collapsed": true
   },
   "source": [
    "### Submit the orders"
   ]
  },
  {
   "cell_type": "code",
   "execution_count": 28,
   "metadata": {
    "ExecuteTime": {
     "end_time": "2017-01-10T10:50:05.880607",
     "start_time": "2017-01-10T10:50:02.005417"
    },
    "collapsed": false
   },
   "outputs": [
    {
     "name": "stdout",
     "output_type": "stream",
     "text": [
      "{\n",
      "  \"orderid\": \"gregory.raevski@ga.gov.au-01092017-175003-675\",\n",
      "  \"status\": 200\n",
      "}\n",
      "{\n",
      "  \"orderid\": \"gregory.raevski@ga.gov.au-01092017-175005-695\",\n",
      "  \"status\": 200\n",
      "}\n"
     ]
    }
   ],
   "source": [
    "for json_item in json_order:\n",
    "    place_order = requests.post('https://espa.cr.usgs.gov/api/v0/order', json=json_item, auth=auth)\n",
    "    print(place_order.text)"
   ]
  },
  {
   "cell_type": "markdown",
   "metadata": {
    "ExecuteTime": {
     "end_time": "2017-01-10T14:39:57.117433",
     "start_time": "2017-01-10T14:39:56.106309"
    },
    "collapsed": false
   },
   "source": [
    "### Get current orders"
   ]
  },
  {
   "cell_type": "code",
   "execution_count": 12,
   "metadata": {
    "ExecuteTime": {
     "end_time": "2017-01-10T14:45:50.609386",
     "start_time": "2017-01-10T14:45:45.718285"
    },
    "collapsed": false
   },
   "outputs": [
    {
     "name": "stdout",
     "output_type": "stream",
     "text": [
      "gregory.raevski@ga.gov.au-01092017-175003-675 complete\n",
      "gregory.raevski@ga.gov.au-01092017-175005-695 complete\n",
      "gregory.raevski@ga.gov.au-01032017-175950-043 complete\n",
      "gregory.raevski@ga.gov.au-01032017-180639-765 complete\n"
     ]
    }
   ],
   "source": [
    "current_orders = requests.get('https://espa.cr.usgs.gov/api/v0/list-orders/', auth=auth).json()['orders']\n",
    "for order in current_orders:\n",
    "    order_status = requests.get('https://espa.cr.usgs.gov/api/v0/order/'+order, auth=auth)\n",
    "    status = order_status.json()['status']\n",
    "    print(order, status)"
   ]
  },
  {
   "cell_type": "markdown",
   "metadata": {},
   "source": [
    "###  download the data as it becomes available"
   ]
  },
  {
   "cell_type": "code",
   "execution_count": null,
   "metadata": {
    "ExecuteTime": {
     "end_time": "2017-01-10T15:31:21.324023",
     "start_time": "2017-01-10T14:45:52.080018"
    },
    "collapsed": false
   },
   "outputs": [],
   "source": [
    "downloaded = set()\n",
    "\n",
    "while current_orders:\n",
    "    completed = set()\n",
    "    for order in current_orders.copy():\n",
    "        status = requests.get('https://espa.cr.usgs.gov/api/v0/item-status/%s'%order, auth=auth).json()\n",
    "        completed.update(item['product_dload_url'] for item in status['orderid'][order] if item['status'] == 'complete')\n",
    "        pending = [item for item in status['orderid'][order] if item['status'] != 'complete']\n",
    "        if not pending:\n",
    "            current_orders.remove(order)\n",
    "\n",
    "    for url in completed - downloaded:\n",
    "        download_file(url, data_dir)\n",
    "        downloaded.add(url)\n",
    "\n",
    "    time.sleep(30)"
   ]
  },
  {
   "cell_type": "markdown",
   "metadata": {
    "ExecuteTime": {
     "end_time": "2017-01-10T16:46:08.400744",
     "start_time": "2017-01-10T16:46:08.396036"
    }
   },
   "source": [
    "# WARNING!!! Anything past here is untested"
   ]
  },
  {
   "cell_type": "markdown",
   "metadata": {},
   "source": [
    "### Prepare the data "
   ]
  },
  {
   "cell_type": "code",
   "execution_count": null,
   "metadata": {
    "collapsed": false
   },
   "outputs": [],
   "source": [
    "ledaps_prepare_script=os.path.join(datacube_home, utils)\n",
    "print(ledaps_prepare_script)"
   ]
  },
  {
   "cell_type": "code",
   "execution_count": null,
   "metadata": {
    "collapsed": true
   },
   "outputs": [],
   "source": [
    "data_list = [x[0] for x in os.walk(data_dir)]"
   ]
  },
  {
   "cell_type": "code",
   "execution_count": null,
   "metadata": {
    "collapsed": false
   },
   "outputs": [],
   "source": [
    "data_list"
   ]
  },
  {
   "cell_type": "code",
   "execution_count": null,
   "metadata": {
    "collapsed": false
   },
   "outputs": [],
   "source": [
    "for item in data_list[1:]:\n",
    "    !python \"C:\\\\datacube\\\\code\\\\agdc-v2\\\\utils\\\\usgslsprepare.py\" $item"
   ]
  },
  {
   "cell_type": "markdown",
   "metadata": {},
   "source": [
    "### Add the product configurations to the datacube database"
   ]
  },
  {
   "cell_type": "code",
   "execution_count": null,
   "metadata": {
    "collapsed": false
   },
   "outputs": [],
   "source": [
    "import os\n",
    "ls5_config=os.path.abspath(\"C:\\\\datacube\\\\code\\\\agdc-v2\\\\docs\\\\config_samples\\\\dataset_types\\\\ls5_scenes.yaml\")\n",
    "ls7_config=os.path.abspath(\"C:\\\\datacube\\\\code\\\\agdc-v2\\\\docs\\\\config_samples\\\\dataset_types\\\\ls7_scenes.yaml\")\n",
    "ls8_config=os.path.abspath(\"C:\\\\datacube\\\\code\\\\agdc-v2\\\\docs\\\\config_samples\\\\dataset_types\\\\ls8_scenes.yaml\")"
   ]
  },
  {
   "cell_type": "code",
   "execution_count": null,
   "metadata": {
    "collapsed": false
   },
   "outputs": [],
   "source": [
    "# Remove old datacube db instances if they exist and create a new\n",
    "## Weird Ubuntu config issue fixed with sudo ln -s /var/run/postgresql/.s.PGSQL.5432 /tmp/.s.PGSQL.5432\n",
    "!dropdb datacube\n",
    "!createdb datacube \n",
    "# the database to prepare to product addition\n",
    "!datacube system init\n"
   ]
  },
  {
   "cell_type": "code",
   "execution_count": null,
   "metadata": {
    "collapsed": false
   },
   "outputs": [],
   "source": [
    "# add the product configurations to enable indexing of prepared data\n",
    "!datacube -v product add $ls5_config\n",
    "!datacube -v product add $ls7_config\n",
    "!datacube -v product add $ls8_config\n",
    "!datacube system check"
   ]
  },
  {
   "cell_type": "markdown",
   "metadata": {},
   "source": [
    "### Add datasets for the configured products"
   ]
  },
  {
   "cell_type": "code",
   "execution_count": null,
   "metadata": {
    "collapsed": false
   },
   "outputs": [],
   "source": [
    "for item in data_list[1:]:\n",
    "    item=os.path.join(item,'agdc-metadata.yaml')\n",
    "    if os.path.isfile(item):\n",
    "        !datacube -v dataset add $item --auto-match"
   ]
  }
 ],
 "metadata": {
  "kernelspec": {
   "display_name": "Python 2",
   "language": "python",
   "name": "python2"
  },
  "language_info": {
   "codemirror_mode": {
    "name": "ipython",
    "version": 2
   },
   "file_extension": ".py",
   "mimetype": "text/x-python",
   "name": "python",
   "nbconvert_exporter": "python",
   "pygments_lexer": "ipython2",
   "version": "2.7.12"
  },
  "nav_menu": {},
  "toc": {
   "colors": {
    "hover_highlight": "#DAA520",
    "running_highlight": "#FF0000",
    "selected_highlight": "#FFD700"
   },
   "moveMenuLeft": true,
   "nav_menu": {
    "height": "407px",
    "width": "252px"
   },
   "navigate_menu": true,
   "number_sections": true,
   "sideBar": true,
   "threshold": 6,
   "toc_cell": false,
   "toc_section_display": "block",
   "toc_window_display": false
  }
 },
 "nbformat": 4,
 "nbformat_minor": 1
}